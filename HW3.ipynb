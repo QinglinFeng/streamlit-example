{
 "cells": [
  {
   "cell_type": "code",
   "execution_count": 1,
   "id": "03dabe1e",
   "metadata": {},
   "outputs": [],
   "source": [
    "import pandas as pd\n",
    "import altair as alt\n",
    "import streamlit as st\n",
    "from tqdm import tqdm\n",
    "\n",
    "import pandas as pd\n",
    "import json\n",
    "import altair as alt\n",
    "import streamlit as st\n",
    "from tqdm import tqdm\n",
    "\n",
    "\n",
    "def init_ds(json):\n",
    "    ds= {}\n",
    "    keys = json.keys()\n",
    "    for k in keys:\n",
    "        ds[k]= []\n",
    "    return ds, keys\n",
    "\n",
    "def read_json(file):\n",
    "    dataset = {}\n",
    "    keys = []\n",
    "    with open(file) as file_lines:\n",
    "        for count, line in enumerate(file_lines):\n",
    "            data = json.loads(line.strip())\n",
    "            if count ==0:\n",
    "                dataset, keys = init_ds(data)\n",
    "            for k in keys:\n",
    "                dataset[k].append(data[k])\n",
    "                \n",
    "        return pd.DataFrame(dataset)\n"
   ]
  },
  {
   "cell_type": "code",
   "execution_count": 2,
   "id": "ccc84def",
   "metadata": {},
   "outputs": [
    {
     "name": "stdout",
     "output_type": "stream",
     "text": [
      "CPU times: user 976 ms, sys: 77.4 ms, total: 1.05 s\n",
      "Wall time: 1.07 s\n"
     ]
    }
   ],
   "source": [
    "%%time\n",
    "\n",
    "business_df = read_json('yelp_business.json')"
   ]
  },
  {
   "cell_type": "code",
   "execution_count": 3,
   "id": "56c6cc52",
   "metadata": {},
   "outputs": [
    {
     "name": "stdout",
     "output_type": "stream",
     "text": [
      "CPU times: user 26.9 s, sys: 8.92 s, total: 35.8 s\n",
      "Wall time: 40.4 s\n"
     ]
    }
   ],
   "source": [
    "%%time\n",
    "\n",
    "review_df = read_json('yelp_review.json')"
   ]
  },
  {
   "cell_type": "code",
   "execution_count": 4,
   "id": "90f35615",
   "metadata": {},
   "outputs": [
    {
     "name": "stdout",
     "output_type": "stream",
     "text": [
      "CPU times: user 15.5 s, sys: 2.68 s, total: 18.2 s\n",
      "Wall time: 24.9 s\n"
     ]
    }
   ],
   "source": [
    "%%time\n",
    "\n",
    "user_df = read_json('yelp_user.json')"
   ]
  },
  {
   "cell_type": "code",
   "execution_count": 5,
   "id": "0d59b56e",
   "metadata": {},
   "outputs": [
    {
     "name": "stdout",
     "output_type": "stream",
     "text": [
      "Index(['business_id', 'name', 'address', 'city', 'state', 'postal_code',\n",
      "       'latitude', 'longitude', 'stars', 'review_count', 'is_open',\n",
      "       'attributes', 'categories', 'hours'],\n",
      "      dtype='object')\n",
      "Index(['review_id', 'user_id', 'business_id', 'stars', 'useful', 'funny',\n",
      "       'cool', 'text', 'date'],\n",
      "      dtype='object')\n",
      "Index(['user_id', 'name', 'review_count', 'yelping_since', 'useful', 'funny',\n",
      "       'cool', 'elite', 'friends', 'fans', 'average_stars', 'compliment_hot',\n",
      "       'compliment_more', 'compliment_profile', 'compliment_cute',\n",
      "       'compliment_list', 'compliment_note', 'compliment_plain',\n",
      "       'compliment_cool', 'compliment_funny', 'compliment_writer',\n",
      "       'compliment_photos'],\n",
      "      dtype='object')\n"
     ]
    }
   ],
   "source": [
    "print(business_df.columns)\n",
    "print(review_df.columns)\n",
    "print(user_df.columns)"
   ]
  },
  {
   "cell_type": "code",
   "execution_count": 6,
   "id": "d4f8c5d4",
   "metadata": {},
   "outputs": [],
   "source": [
    "# Merge the business and user dataframes on the 'user_id' column\n",
    "business_review_df = pd.merge(business_df, review_df, on='business_id')\n",
    "\n",
    "# Merge the business_user_df and review dataframes on the 'business_id' column\n",
    "yelp_df = pd.merge(business_review_df, user_df, on='user_id')"
   ]
  },
  {
   "cell_type": "code",
   "execution_count": 7,
   "id": "50f6f040",
   "metadata": {},
   "outputs": [
    {
     "name": "stdout",
     "output_type": "stream",
     "text": [
      "Index(['business_id', 'name_x', 'address', 'city', 'state', 'postal_code',\n",
      "       'latitude', 'longitude', 'stars_x', 'review_count_x', 'is_open',\n",
      "       'attributes', 'categories', 'hours', 'review_id', 'user_id', 'stars_y',\n",
      "       'useful_x', 'funny_x', 'cool_x', 'text', 'date', 'name_y',\n",
      "       'review_count_y', 'yelping_since', 'useful_y', 'funny_y', 'cool_y',\n",
      "       'elite', 'friends', 'fans', 'average_stars', 'compliment_hot',\n",
      "       'compliment_more', 'compliment_profile', 'compliment_cute',\n",
      "       'compliment_list', 'compliment_note', 'compliment_plain',\n",
      "       'compliment_cool', 'compliment_funny', 'compliment_writer',\n",
      "       'compliment_photos'],\n",
      "      dtype='object')\n"
     ]
    }
   ],
   "source": [
    "# See what features we have got in the df\n",
    "print(yelp_df.columns)"
   ]
  },
  {
   "cell_type": "code",
   "execution_count": 9,
   "id": "a53cd261",
   "metadata": {},
   "outputs": [
    {
     "name": "stdout",
     "output_type": "stream",
     "text": [
      "['CA' 'MO' 'IN' 'IL' 'TN' 'PA' 'AZ' 'NJ' 'LA' 'FL' 'ID' 'DE' 'NV' 'AB'\n",
      " 'HI' 'UT' 'SD' 'WA' 'CO' 'TX' 'VI' 'NC' 'MT' 'MA' 'MI' 'VT' 'XMS']\n"
     ]
    }
   ],
   "source": [
    "# See what states are in the df\n",
    "print(yelp_df['state'].unique())"
   ]
  },
  {
   "cell_type": "code",
   "execution_count": 11,
   "id": "847f8e64",
   "metadata": {},
   "outputs": [],
   "source": [
    "# There are some states that are not in the US, so we will remove them\n",
    "yelp_df = yelp_df[yelp_df['state'].isin(['AL', 'AK', 'AZ', 'AR', 'CA', 'CO', 'CT', 'DE', 'FL', 'GA', 'HI', 'ID', 'IL', 'IN', 'IA', 'KS', 'KY', 'LA', 'ME', 'MD', 'MA', 'MI', 'MN', 'MS', 'MO', 'MT', 'NE', 'NV', 'NH', 'NJ', 'NM', 'NY', 'NC', 'ND', 'OH', 'OK', 'OR', 'PA', 'RI', 'SC', 'SD', 'TN', 'TX', 'UT', 'VT', 'VA', 'WA', 'WV', 'WI', 'WY'])]"
   ]
  },
  {
   "cell_type": "code",
   "execution_count": 14,
   "id": "5f3a7957",
   "metadata": {},
   "outputs": [
    {
     "name": "stdout",
     "output_type": "stream",
     "text": [
      "['Doctors, Traditional Chinese Medicine, Naturopathic/Holistic, Acupuncture, Health & Medical, Nutritionists'\n",
      " 'Shipping Centers, Local Services, Notaries, Mailbox Centers, Printing Services'\n",
      " 'Vegan, Coffee & Tea, Breakfast & Brunch, Vegetarian, Restaurants, Food'\n",
      " ... 'Shopping, Kitchen & Bath, Home Services, Home & Garden'\n",
      " 'Movers, Home Services, Local Services, Self Storage, Junk Removal & Hauling, Packing Services'\n",
      " 'Health & Medical, Supernatural Readings, Hospitals, Professional Services, Yoga, Reiki, Psychics, Arts & Entertainment, Active Life, Fitness & Instruction, Psychic Mediums, Life Coach, Home Health Care']\n"
     ]
    }
   ],
   "source": [
    "# See what are the categories for the reviews\n",
    "unique_categories = yelp_df['categories'].unique()\n",
    "print(unique_categories)"
   ]
  },
  {
   "cell_type": "code",
   "execution_count": 29,
   "id": "67224a37",
   "metadata": {},
   "outputs": [],
   "source": [
    "#created a list of food-related businesses (i.e. restaurants, bars, etc.)\n",
    "food_categories = ['Restaurants', 'Food', 'Bars', 'Sandwiches', 'Breakfast & Brunch', 'Burgers', 'Pizza', 'American (Traditional)', 'American (New)', 'Fast Food', 'Italian', 'Mexican', 'Chinese', 'Japanese', 'Thai', 'Indian', 'Mediterranean', 'Seafood', 'Sushi Bars', 'Wine Bars', 'Pubs', 'Lounges', 'Diners', 'Steakhouses', 'Buffets', 'Chicken Wings', 'Hot Dogs', 'Bagels', 'Salad', 'Soup', 'Vegetarian', 'Vegan', 'Specialty Food', 'Food Court', 'Cocktail Bars', 'Sports Bars', 'Tapas Bars']\n",
    "# Keep only the reviews that are in the food_categories list\n",
    "yelp_df = yelp_df[yelp_df['categories'].isin(food_categories)]"
   ]
  },
  {
   "cell_type": "code",
   "execution_count": 44,
   "id": "1cdf03c8",
   "metadata": {},
   "outputs": [
    {
     "name": "stdout",
     "output_type": "stream",
     "text": [
      "15307    2015-11-18 00:05:48\n",
      "16020    2014-02-01 06:55:23\n",
      "16518    2013-03-11 01:20:22\n",
      "17741    2015-11-18 03:10:59\n",
      "23544    2011-07-21 02:19:14\n",
      "Name: date, dtype: object\n",
      "15307    2015\n",
      "16020    2014\n",
      "16518    2013\n",
      "17741    2015\n",
      "23544    2011\n",
      "Name: year, dtype: int64\n",
      "[2015 2014 2013 2011 2010 2008 2020 2021 2019 2017 2022 2012 2006 2007\n",
      " 2016 2009 2018 2005]\n"
     ]
    }
   ],
   "source": [
    "#See how the df displays dates\n",
    "print(yelp_df['date'].head())\n",
    "#Now extract the year from the date column and create a new column called 'year'\n",
    "yelp_df['year'] = pd.DatetimeIndex(yelp_df['date']).year\n",
    "#Convert the year column values to integers\n",
    "yelp_df['year'] = yelp_df['year'].astype(int)\n",
    "#assert that the year column is an integer\n",
    "assert yelp_df['year'].dtype == 'int64'\n",
    "#See the first 5 rows of the year column\n",
    "print(yelp_df['year'].head())\n",
    "#see the span of years in the df\n",
    "print(yelp_df['year'].unique())\n",
    "# looks like we have data from 2005 to 2022, so we will only keep the data in the most recent 5 years\n",
    "yelp_df = yelp_df[yelp_df['year'].isin([2018, 2019, 2020, 2021, 2022])]"
   ]
  },
  {
   "cell_type": "code",
   "execution_count": 45,
   "id": "b961ba8c",
   "metadata": {},
   "outputs": [
    {
     "name": "stdout",
     "output_type": "stream",
     "text": [
      "business_id             0\n",
      "name_x                  0\n",
      "address                 0\n",
      "city                    0\n",
      "state                   0\n",
      "postal_code             0\n",
      "latitude                0\n",
      "longitude               0\n",
      "stars_x                 0\n",
      "review_count_x          0\n",
      "is_open                 0\n",
      "attributes              6\n",
      "categories              0\n",
      "hours                 231\n",
      "review_id               0\n",
      "user_id                 0\n",
      "stars_y                 0\n",
      "useful_x                0\n",
      "funny_x                 0\n",
      "cool_x                  0\n",
      "text                    0\n",
      "date                    0\n",
      "name_y                  0\n",
      "review_count_y          0\n",
      "yelping_since           0\n",
      "useful_y                0\n",
      "funny_y                 0\n",
      "cool_y                  0\n",
      "elite                   0\n",
      "friends                 0\n",
      "fans                    0\n",
      "average_stars           0\n",
      "compliment_hot          0\n",
      "compliment_more         0\n",
      "compliment_profile      0\n",
      "compliment_cute         0\n",
      "compliment_list         0\n",
      "compliment_note         0\n",
      "compliment_plain        0\n",
      "compliment_cool         0\n",
      "compliment_funny        0\n",
      "compliment_writer       0\n",
      "compliment_photos       0\n",
      "year                    0\n",
      "dtype: int64\n"
     ]
    }
   ],
   "source": [
    "# Nest step, we can some data cleaning to remove the rows with missing values in the data\n",
    "# See how many rows have missing values\n",
    "print(yelp_df.isnull().sum())\n",
    "# Some are missing hours, and a few are missing attributes (have parking lot etc.), which is not a big problem for now. So we keep them\n"
   ]
  },
  {
   "cell_type": "code",
   "execution_count": 46,
   "id": "9f73b886",
   "metadata": {},
   "outputs": [],
   "source": [
    "# We want to add a column that shows the population density of the zipcode where the business is located\n",
    "# First, we need to get the population data for each zipcode\n",
    "# We will use the data from the US Census Bureau through the US Census API\n",
    "# We will use the 2020 population data\n",
    "# write a function to get the population data for each zipcode from the API\n",
    "def get_population_data(zipcode):\n",
    "    import requests\n",
    "    url = 'https://api.census.gov/data/2020/pep/population?get=POP,GEONAME&for=zip%20code%20tabulation%20area:' + str(zipcode)\n",
    "    response = requests.get(url)\n",
    "    if response.status_code == 200:\n",
    "        return response.json()\n",
    "    else:\n",
    "        return None\n",
    "    "
   ]
  },
  {
   "cell_type": "code",
   "execution_count": 47,
   "id": "7131753d",
   "metadata": {},
   "outputs": [
    {
     "name": "stderr",
     "output_type": "stream",
     "text": [
      "249it [00:50,  4.95it/s]\n"
     ]
    }
   ],
   "source": [
    "#Now we want to add the population data to the yelp_df dataframe\n",
    "#First, we need to create a new column called 'population'\n",
    "yelp_df['population'] = 0\n",
    "#Now we will iterate through the rows of the df and get the population data for each zipcode\n",
    "for index, row in tqdm(yelp_df.iterrows()):\n",
    "    zipcode = row['postal_code']\n",
    "    population_data = get_population_data(zipcode)\n",
    "    if population_data:\n",
    "        population = population_data[1][0]\n",
    "        yelp_df.loc[index, 'population'] = population\n",
    "    else:\n",
    "        yelp_df.loc[index, 'population'] = 0"
   ]
  },
  {
   "cell_type": "code",
   "execution_count": 48,
   "id": "76145dab",
   "metadata": {},
   "outputs": [],
   "source": [
    "# Now we also want to add the average household income for each zipcode\n",
    "# We will use the data from the US Census Bureau through the US Census API\n",
    "# We will use the 2020 income data\n",
    "# write a function to get the income data for each zipcode from the API\n",
    "def get_income_data(zipcode):\n",
    "    import requests\n",
    "    url = 'https://api.census.gov/data/2019/acs/acs5/profile?get=DP03_0062E&for=zip%20code%20tabulation%20area:' + str(zipcode)\n",
    "    response = requests.get(url)\n",
    "    if response.status_code == 200:\n",
    "        return response.json()\n",
    "    else:\n",
    "        return None"
   ]
  },
  {
   "cell_type": "code",
   "execution_count": 49,
   "id": "0acf5fe1",
   "metadata": {},
   "outputs": [
    {
     "name": "stderr",
     "output_type": "stream",
     "text": [
      "249it [00:46,  5.32it/s]\n"
     ]
    }
   ],
   "source": [
    "#Now we want to add the income data to the yelp_df dataframe\n",
    "#First, we need to create a new column called 'income'\n",
    "yelp_df['income'] = 0\n",
    "#Now we will iterate through the rows of the df and get the income data for each zipcode\n",
    "for index, row in tqdm(yelp_df.iterrows()):\n",
    "    zipcode = row['postal_code']\n",
    "    income_data = get_income_data(zipcode)\n",
    "    if income_data:\n",
    "        income = income_data[1][0]\n",
    "        yelp_df.loc[index, 'income'] = income\n",
    "    else:\n",
    "        yelp_df.loc[index, 'income'] = 0"
   ]
  },
  {
   "cell_type": "code",
   "execution_count": 61,
   "id": "9b6e796c",
   "metadata": {},
   "outputs": [
    {
     "ename": "SyntaxError",
     "evalue": "invalid syntax (3084766662.py, line 41)",
     "output_type": "error",
     "traceback": [
      "\u001b[0;36m  Cell \u001b[0;32mIn[61], line 41\u001b[0;36m\u001b[0m\n\u001b[0;31m    streamlit run /Library/Frameworks/Python.framework/Versions/3.10/lib/python3.10/site-packages/ipykernel_launcher.py\u001b[0m\n\u001b[0m              ^\u001b[0m\n\u001b[0;31mSyntaxError\u001b[0m\u001b[0;31m:\u001b[0m invalid syntax\n"
     ]
    }
   ],
   "source": [
    "# Now we want to use altair to map the business locations, the population density, and the average household income\n",
    "# We only want to map the data by zipcodes, so we will group the data by zipcode\n",
    "# First, we need to create a new df that only has the columns we need\n",
    "yelp_df_map = yelp_df[['postal_code', 'latitude', 'longitude', 'population', 'income']]\n",
    "# Now we need to group the data by zipcode\n",
    "yelp_df_map = yelp_df_map.groupby(['postal_code', 'latitude', 'longitude']).mean().reset_index()\n",
    "# Now we can map the data, and display it on a US map\n",
    "# First, we need to import altair\n",
    "import altair as alt\n",
    "# Now we need to create a map of the US\n",
    "# We will use the US zipcodes shapefile from the US Census Bureau\n",
    "# We import it from the api for 2020 map\n",
    "import requests\n",
    "url = 'https://www2.census.gov/geo/tiger/GENZ2020/shp/cb_2020_us_zcta510_500k.zip'\n",
    "response = requests.get(url)\n",
    "with open('cb_2020_us_zcta510_500k.zip', 'wb') as f:\n",
    "    f.write(response.content)\n",
    "# Now use altair to read the shapefile\n",
    "us_map = alt.topo_feature('cb_2020_us_zcta510_500k.zip', 'cb_2020_us_zcta510_500k')\n",
    "# Now we can create a map of the US\n",
    "# We will use the population density as the color of the map\n",
    "# We will display the business locations on the map\n",
    "with alt.data_transformers.enable('json'):\n",
    "    us_map_chart = alt.Chart(us_map).mark_geoshape().encode(\n",
    "        color = alt.Color('population:Q', scale=alt.Scale(scheme='yelloworangered')),\n",
    "        tooltip = ['postal_code:N', 'population:Q']\n",
    "    ).properties(\n",
    "        width = 800,\n",
    "        height = 600\n",
    "    )\n",
    "    us_map_chart = us_map_chart + alt.Chart(yelp_df_map).mark_circle(size=10).encode(\n",
    "        longitude = 'longitude:Q',\n",
    "        latitude = 'latitude:Q',\n",
    "        tooltip = ['postal_code:N', 'population:Q']\n",
    "    )\n",
    "    us_map_chart\n",
    "# We want to view it in streamlit (we have imported streamlit in the beginning)\n",
    "# We will use the st.altair_chart() function to display the chart\n",
    "st.altair_chart(us_map_chart)\n",
    "\n"
   ]
  }
 ],
 "metadata": {
  "kernelspec": {
   "display_name": "Python 3 (ipykernel)",
   "language": "python",
   "name": "python3"
  },
  "language_info": {
   "codemirror_mode": {
    "name": "ipython",
    "version": 3
   },
   "file_extension": ".py",
   "mimetype": "text/x-python",
   "name": "python",
   "nbconvert_exporter": "python",
   "pygments_lexer": "ipython3",
   "version": "3.10.5"
  }
 },
 "nbformat": 4,
 "nbformat_minor": 5
}
